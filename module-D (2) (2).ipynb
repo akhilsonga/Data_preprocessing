{
 "cells": [
  {
   "cell_type": "code",
   "execution_count": 330,
   "metadata": {},
   "outputs": [
    {
     "name": "stderr",
     "output_type": "stream",
     "text": [
      "C:\\Users\\akhil\\AppData\\Local\\Temp\\ipykernel_14624\\152984296.py:2: DtypeWarning: Columns (47,123,124,125,128,129,130,133) have mixed types. Specify dtype option on import or set low_memory=False.\n",
      "  df = pd.read_csv(r\"C:\\Users\\akhil\\Downloads\\module-D\\data\\loan_extra-small.csv\")\n"
     ]
    }
   ],
   "source": [
    "import pandas as pd\n",
    "df = pd.read_csv(r\"C:\\Users\\akhil\\Downloads\\module-D\\data\\loan_extra-small.csv\")\n",
    "headers = df.columns.tolist()\n",
    "header = headers[:25]\n",
    "df.info\n",
    "a = df.iloc[0, 0:25]\n",
    "loan_status = df.loc[0,\"loan_status\"]"
   ]
  },
  {
   "cell_type": "code",
   "execution_count": 152,
   "metadata": {},
   "outputs": [
    {
     "name": "stdout",
     "output_type": "stream",
     "text": [
      "loan status:  Current\n",
      "\n",
      "[ ('id' ,'nan'),\n",
      " ('member_id' ,'nan'),\n",
      " ('loan_amnt' ,'2500'),\n",
      " ('funded_amnt' ,'2500'),\n",
      " ('funded_amnt_inv' ,'2500.0'),\n",
      " ('term' ,'36 months'),\n",
      " ('int_rate' ,'13.56'),\n",
      " ('installment' ,'84.92'),\n",
      " ('grade' ,'C'),\n",
      " ('sub_grade' ,'C1'),\n",
      " ('emp_title' ,'Chef'),\n",
      " ('emp_length' ,'10+ years'),\n",
      " ('home_ownership' ,'RENT'),\n",
      " ('annual_inc' ,'55000.0'),\n",
      " ('verification_status' ,'Not Verified'),\n",
      " ('issue_d' ,'Dec-2018'),\n",
      " ('loan_status' ,'Current'),\n",
      " ('pymnt_plan' ,'n'),\n",
      " ('url' ,'nan'),\n",
      " ('desc' ,'nan'),\n",
      " ('purpose' ,'debt_consolidation'),\n",
      " ('title' ,'Debt consolidation'),\n",
      " ('zip_code' ,'109xx'),\n",
      " ('addr_state' ,'NY'),\n",
      " ('dti' ,'18.24')]\n"
     ]
    }
   ],
   "source": [
    "# D1:Function(3/3)\n",
    "\n",
    "import csv\n",
    "import numpy\n",
    "import math\n",
    "\n",
    "def read_loans(file_path):\n",
    "    loan_reader = csv.reader(open(file_path, \"r\"))\n",
    "\n",
    "    #---your code starts here---\n",
    "    headers = df.columns.tolist()\n",
    "    header = headers[:25]\n",
    "    a = df.iloc[0, 0:25]\n",
    "    loan_data = df.loc[0,\"loan_status\"]\n",
    "    print(\"loan status:  \"+str(loan_data), end=\"\\n\\n\")\n",
    "    print(\"[\", end=\"\")\n",
    "    for i in range(25):\n",
    "        #np.Nan\n",
    "        if i == 24:\n",
    "            print(\" ('\"+ str(header[i])+\"' ,'\"+str(a[i])+\"')]\")\n",
    "        else:\n",
    "            print(\" ('\"+ str(header[i])+\"' ,'\"+str(a[i])+\"'),\")\n",
    "    #---you code stops here---\n",
    "    return header, loan_data\n",
    "\n",
    "header, loan_data = read_loans(r'C:\\Users\\akhil\\Downloads\\module-D\\data\\loan_extra-small.csv')"
   ]
  },
  {
   "cell_type": "markdown",
   "metadata": {},
   "source": [
    "For reference, your output should be:\n",
    "```\n",
    "loan status:  Current\n",
    "\n",
    "[('id', ''),\n",
    " ('member_id', ''),\n",
    " ('loan_amnt', '2500'),\n",
    " ('funded_amnt', '2500'),\n",
    " ('funded_amnt_inv', '2500'),\n",
    " ('term', '36 months'),\n",
    " ('int_rate', '13.56'),\n",
    " ('installment', '84.92'),\n",
    " ('grade', 'C'),\n",
    " ('sub_grade', 'C1'),\n",
    " ('emp_title', 'Chef'),\n",
    " ('emp_length', '10+ years'),\n",
    " ('home_ownership', 'RENT'),\n",
    " ('annual_inc', '55000'),\n",
    " ('verification_status', 'Not Verified'),\n",
    " ('issue_d', 'Dec-2018'),\n",
    " ('loan_status', 'Current'),\n",
    " ('pymnt_plan', 'n'),\n",
    " ('url', ''),\n",
    " ('desc', ''),\n",
    " ('purpose', 'debt_consolidation'),\n",
    " ('title', 'Debt consolidation'),\n",
    " ('zip_code', '109xx'),\n",
    " ('addr_state', 'NY'),\n",
    " ('dti', '18.24')]\n",
    "```"
   ]
  },
  {
   "cell_type": "code",
   "execution_count": 274,
   "metadata": {},
   "outputs": [
    {
     "name": "stdout",
     "output_type": "stream",
     "text": [
      "{ 'Fully Paid': 1,\n",
      " 'Charged Off': 0,\n",
      " 'Current': 1,\n",
      " 'Late (31-120 days)': 0,\n",
      " 'Late (16-30 days)': 0}\n"
     ]
    },
    {
     "name": "stderr",
     "output_type": "stream",
     "text": [
      "C:\\Users\\akhil\\AppData\\Local\\Temp\\ipykernel_14624\\3949090843.py:2: DtypeWarning: Columns (47,123,124,125,128,129,130,133) have mixed types. Specify dtype option on import or set low_memory=False.\n",
      "  df = pd.read_csv(r\"C:\\Users\\akhil\\Downloads\\module-D\\data\\loan_extra-small.csv\")\n"
     ]
    }
   ],
   "source": [
    "statuses = {}\n",
    "df = pd.read_csv(r\"C:\\Users\\akhil\\Downloads\\module-D\\data\\loan_extra-small.csv\")\n",
    "aq = df['loan_status'].value_counts()\n",
    "for i in range(len(aq)):\n",
    "    aw = aq.index[i]\n",
    "    if aw == \"Current\" or aw == \"Fully Paid\":\n",
    "        b = 1\n",
    "    else:\n",
    "        b=0\n",
    "    keys = aw\n",
    "    values = b\n",
    "    statuses[keys] = values  \n",
    "dk = list(statuses.keys())\n",
    "dv = list(statuses.values())\n",
    "n=len(dv)\n",
    "print(\"{\",end=\"\")\n",
    "for i in range(n):\n",
    "    if i == n-1:\n",
    "        print(\" '\"+str(dk[i])+\"': \"+ str(dv[i])+\"}\")\n",
    "    else:\n",
    "        print(\" '\"+str(dk[i])+\"': \"+ str(dv[i])+\",\")\n",
    "    "
   ]
  },
  {
   "cell_type": "code",
   "execution_count": 368,
   "metadata": {},
   "outputs": [
    {
     "name": "stderr",
     "output_type": "stream",
     "text": [
      "C:\\Users\\akhil\\AppData\\Local\\Temp\\ipykernel_14624\\1755792242.py:5: DtypeWarning: Columns (47,123,124,125,128,129,130,133) have mixed types. Specify dtype option on import or set low_memory=False.\n",
      "  df = pd.read_csv(r\"C:\\Users\\akhil\\Downloads\\module-D\\data\\loan_extra-small.csv\")\n"
     ]
    },
    {
     "data": {
      "text/plain": [
       "[('>', 121004),\n",
       " ('on', 66146),\n",
       " ('<', 64739),\n",
       " ('br', 64739),\n",
       " ('to', 64247),\n",
       " ('borrower', 56588),\n",
       " ('added', 56366),\n",
       " ('i', 49290),\n",
       " ('and', 38531),\n",
       " ('my', 36555),\n",
       " ('credit', 36540),\n",
       " ('.', 35807),\n",
       " ('a', 29549),\n",
       " ('pay', 25379),\n",
       " ('the', 25320),\n",
       " ('debt', 23033),\n",
       " ('loan', 22664),\n",
       " ('off', 22447),\n",
       " (',', 18715),\n",
       " ('cards', 17834),\n",
       " ('of', 17806),\n",
       " ('this', 17187),\n",
       " ('for', 16392),\n",
       " ('have', 16084),\n",
       " ('card', 15360)]"
      ]
     },
     "execution_count": 368,
     "metadata": {},
     "output_type": "execute_result"
    }
   ],
   "source": [
    "import pandas\n",
    "from collections import Counter\n",
    "from nltk.tokenize import word_tokenize\n",
    "# nltk.download('punkt')\n",
    "df = pd.read_csv(r\"C:\\Users\\akhil\\Downloads\\module-D\\data\\loan_extra-small.csv\")\n",
    "sd = df['desc']\n",
    "# word_data = sd[1]\n",
    "word_data = s1\n",
    "print(\"word_tokenize\")\n",
    "text = word_tokenize(word_data)\n",
    "print(\"filtering\")\n",
    "filtered = [w for w in text if w.isalnum()]\n",
    "print(\"filtered\")\n",
    "counts = Counter(filtered)\n",
    "allWordDist = nltk.FreqDist(w.lower() for w in text)\n",
    "print(\"frequency\")\n",
    "mostCommon= allWordDist.most_common(25)\n",
    "mostCommon"
   ]
  }
 ],
 "metadata": {
  "kernelspec": {
   "display_name": "Python 3 (ipykernel)",
   "language": "python",
   "name": "python3"
  },
  "language_info": {
   "codemirror_mode": {
    "name": "ipython",
    "version": 3
   },
   "file_extension": ".py",
   "mimetype": "text/x-python",
   "name": "python",
   "nbconvert_exporter": "python",
   "pygments_lexer": "ipython3",
   "version": "3.9.12"
  }
 },
 "nbformat": 4,
 "nbformat_minor": 4
}
